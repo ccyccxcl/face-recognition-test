{
 "cells": [
  {
   "cell_type": "code",
   "execution_count": 1,
   "metadata": {},
   "outputs": [],
   "source": []
  },
  {
   "cell_type": "code",
   "execution_count": null,
   "metadata": {},
   "outputs": [],
   "source": [
    "https://www.jianshu.com/p/4f4b673ad87a"
   ]
  },
  {
   "cell_type": "code",
   "execution_count": null,
   "metadata": {},
   "outputs": [],
   "source": [
    "import face_recognition"
   ]
  },
  {
   "cell_type": "code",
   "execution_count": 3,
   "metadata": {},
   "outputs": [],
   "source": [
    "image=face_recognition.load_image_file(\"294505833.jpg\")"
   ]
  },
  {
   "cell_type": "code",
   "execution_count": 5,
   "metadata": {},
   "outputs": [],
   "source": [
    "face_location=face_recognition.face_locations(image,model='cnn')"
   ]
  },
  {
   "cell_type": "code",
   "execution_count": 6,
   "metadata": {},
   "outputs": [
    {
     "name": "stdout",
     "output_type": "stream",
     "text": [
      "[(175, 322, 293, 204)]\n"
     ]
    }
   ],
   "source": [
    "print(face_location)"
   ]
  },
  {
   "cell_type": "code",
   "execution_count": 14,
   "metadata": {},
   "outputs": [],
   "source": [
    "from PIL import Image"
   ]
  },
  {
   "cell_type": "code",
   "execution_count": 8,
   "metadata": {},
   "outputs": [],
   "source": [
    "image=face_recognition.load_image_file(\"294505833.jpg\")"
   ]
  },
  {
   "cell_type": "code",
   "execution_count": 9,
   "metadata": {},
   "outputs": [],
   "source": [
    "face_locations=face_recognition.face_locations(image,model='cnn')"
   ]
  },
  {
   "cell_type": "code",
   "execution_count": 10,
   "metadata": {},
   "outputs": [],
   "source": [
    "top,right,bottom,left=face_locations[0]"
   ]
  },
  {
   "cell_type": "code",
   "execution_count": 11,
   "metadata": {},
   "outputs": [
    {
     "name": "stdout",
     "output_type": "stream",
     "text": [
      "A face is located at pixel location Top:{},Left:{},Bottom:{},Right:{}.format(top,left,bottom,right)\n"
     ]
    }
   ],
   "source": [
    "print('A face is located at pixel location Top:{},Left:{},Bottom:{},Right:{}.format(top,left,bottom,right)')"
   ]
  },
  {
   "cell_type": "code",
   "execution_count": 15,
   "metadata": {},
   "outputs": [],
   "source": [
    "face_image=image[top:bottom,left:right]"
   ]
  },
  {
   "cell_type": "code",
   "execution_count": 16,
   "metadata": {},
   "outputs": [],
   "source": [
    "pil_image=Image.fromarray(face_image)"
   ]
  },
  {
   "cell_type": "code",
   "execution_count": 17,
   "metadata": {},
   "outputs": [],
   "source": [
    "pil_image.show()"
   ]
  },
  {
   "cell_type": "code",
   "execution_count": 18,
   "metadata": {},
   "outputs": [],
   "source": [
    "pil_image.save('new.jpg')"
   ]
  },
  {
   "cell_type": "code",
   "execution_count": 19,
   "metadata": {},
   "outputs": [],
   "source": [
    "from PIL import Image,ImageDraw"
   ]
  },
  {
   "cell_type": "code",
   "execution_count": 20,
   "metadata": {},
   "outputs": [],
   "source": [
    "image=face_recognition.load_image_file(\"294505833.jpg\")"
   ]
  },
  {
   "cell_type": "code",
   "execution_count": 21,
   "metadata": {},
   "outputs": [],
   "source": [
    "face_landmarks_list=face_recognition.face_landmarks(image)"
   ]
  },
  {
   "cell_type": "code",
   "execution_count": 22,
   "metadata": {},
   "outputs": [
    {
     "name": "stdout",
     "output_type": "stream",
     "text": [
      "[{'chin': [(202, 228), (205, 245), (210, 260), (215, 276), (222, 290), (232, 302), (244, 312), (258, 321), (273, 323), (289, 318), (302, 307), (313, 295), (321, 280), (325, 264), (327, 247), (329, 229), (328, 212)], 'left_eyebrow': [(207, 216), (213, 208), (223, 204), (234, 204), (245, 206)], 'right_eyebrow': [(268, 203), (279, 198), (290, 196), (303, 197), (313, 202)], 'nose_bridge': [(259, 221), (260, 232), (261, 243), (262, 253)], 'nose_tip': [(253, 265), (259, 266), (264, 266), (269, 264), (275, 262)], 'left_eye': [(220, 228), (227, 222), (236, 221), (244, 228), (236, 230), (227, 231)], 'right_eye': [(277, 224), (284, 216), (293, 214), (302, 219), (295, 223), (285, 225)], 'top_lip': [(249, 288), (255, 281), (261, 278), (266, 278), (271, 276), (279, 278), (287, 283), (283, 283), (272, 283), (267, 284), (261, 285), (253, 288)], 'bottom_lip': [(287, 283), (280, 292), (274, 295), (268, 296), (262, 296), (256, 294), (249, 288), (253, 288), (261, 287), (267, 287), (272, 286), (283, 283)]}]\n"
     ]
    }
   ],
   "source": [
    "print(face_landmarks_list)"
   ]
  },
  {
   "cell_type": "code",
   "execution_count": 27,
   "metadata": {},
   "outputs": [],
   "source": [
    "for face_landmarks in face_landmarks_list:\n",
    "    pil_image=Image.fromarray(image)\n",
    "    d=ImageDraw.Draw(pil_image,'RGBA')"
   ]
  },
  {
   "cell_type": "code",
   "execution_count": 29,
   "metadata": {},
   "outputs": [],
   "source": [
    "d.polygon(face_landmarks['top_lip'],fill=(150,0,0,128))\n",
    "d.polygon(face_landmarks['bottom_lip'],fill=(150,0,0,128))\n",
    "d.line(face_landmarks['top_lip'],fill=(150,0,0,64),width=3)\n",
    "d.line(face_landmarks['bottom_lip'],fill=(150,0,0,64),width=3)"
   ]
  },
  {
   "cell_type": "code",
   "execution_count": 30,
   "metadata": {},
   "outputs": [],
   "source": [
    "pil_image.show()\n",
    "pil_image.save('new1.jpg')#加口红"
   ]
  },
  {
   "cell_type": "code",
   "execution_count": 31,
   "metadata": {},
   "outputs": [],
   "source": [
    "image=face_recognition.load_image_file(\"294505833.jpg\")"
   ]
  },
  {
   "cell_type": "code",
   "execution_count": 36,
   "metadata": {},
   "outputs": [
    {
     "name": "stdout",
     "output_type": "stream",
     "text": [
      "[(196, 325, 325, 196)]\n"
     ]
    }
   ],
   "source": [
    "locations=face_recognition.face_locations(image)\n",
    "print(locations)\n",
    "pos=locations[0]"
   ]
  },
  {
   "cell_type": "code",
   "execution_count": 33,
   "metadata": {},
   "outputs": [],
   "source": [
    "pil_image=Image.fromarray(image)"
   ]
  },
  {
   "cell_type": "code",
   "execution_count": 34,
   "metadata": {},
   "outputs": [],
   "source": [
    "d=ImageDraw.Draw(pil_image,'RGBA')"
   ]
  },
  {
   "cell_type": "code",
   "execution_count": 38,
   "metadata": {},
   "outputs": [],
   "source": [
    "d.rectangle((pos[3],pos[0],pos[1],pos[2]))"
   ]
  },
  {
   "cell_type": "code",
   "execution_count": 39,
   "metadata": {},
   "outputs": [],
   "source": [
    "pil_image.show()"
   ]
  },
  {
   "cell_type": "code",
   "execution_count": 40,
   "metadata": {},
   "outputs": [],
   "source": [
    "pil_image.save(\"new2.jpg\")"
   ]
  },
  {
   "cell_type": "code",
   "execution_count": 41,
   "metadata": {},
   "outputs": [],
   "source": [
    "image=face_recognition.load_image_file(\"1233.png\")"
   ]
  },
  {
   "cell_type": "code",
   "execution_count": 42,
   "metadata": {},
   "outputs": [
    {
     "name": "stdout",
     "output_type": "stream",
     "text": [
      "[]\n"
     ]
    }
   ],
   "source": [
    "locations=face_recognition.face_locations(image)\n",
    "print(locations)"
   ]
  },
  {
   "cell_type": "code",
   "execution_count": 43,
   "metadata": {},
   "outputs": [],
   "source": [
    "img=Image.open(\"1233.png\")"
   ]
  },
  {
   "cell_type": "code",
   "execution_count": 45,
   "metadata": {},
   "outputs": [],
   "source": [
    "img=img.rotate(90,expand=1)"
   ]
  },
  {
   "cell_type": "code",
   "execution_count": 47,
   "metadata": {},
   "outputs": [],
   "source": [
    "img.save('new3.png')"
   ]
  },
  {
   "cell_type": "code",
   "execution_count": 48,
   "metadata": {},
   "outputs": [
    {
     "name": "stdout",
     "output_type": "stream",
     "text": [
      "[(166, 424, 255, 335)]\n"
     ]
    }
   ],
   "source": [
    "image=face_recognition.load_image_file(\"new3.png\")\n",
    "locations=face_recognition.face_locations(image)\n",
    "print(locations)"
   ]
  },
  {
   "cell_type": "code",
   "execution_count": 51,
   "metadata": {},
   "outputs": [],
   "source": [
    "pil_image = Image.fromarray(image)\n",
    "pil_image.show()\n",
    "pil_image.save(\"new4.png\")"
   ]
  },
  {
   "cell_type": "code",
   "execution_count": null,
   "metadata": {},
   "outputs": [],
   "source": []
  }
 ],
 "metadata": {
  "kernelspec": {
   "display_name": "Python 3",
   "language": "python",
   "name": "python3"
  },
  "language_info": {
   "codemirror_mode": {
    "name": "ipython",
    "version": 3
   },
   "file_extension": ".py",
   "mimetype": "text/x-python",
   "name": "python",
   "nbconvert_exporter": "python",
   "pygments_lexer": "ipython3",
   "version": "3.6.2"
  }
 },
 "nbformat": 4,
 "nbformat_minor": 2
}
